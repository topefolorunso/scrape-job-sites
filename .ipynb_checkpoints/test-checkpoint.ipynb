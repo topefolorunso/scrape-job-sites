{
 "cells": [
  {
   "cell_type": "code",
   "execution_count": 2,
   "metadata": {},
   "outputs": [],
   "source": [
    "import requests\n",
    "from bs4 import BeautifulSoup"
   ]
  },
  {
   "cell_type": "code",
   "execution_count": 6,
   "metadata": {},
   "outputs": [],
   "source": [
    "r = requests.get('https://www.lifeatspotify.com/locations')\n",
    "#r.text"
   ]
  },
  {
   "cell_type": "code",
   "execution_count": 7,
   "metadata": {},
   "outputs": [],
   "source": [
    "soup = BeautifulSoup(r.text, 'html.parser')\n",
    "#soup"
   ]
  },
  {
   "cell_type": "code",
   "execution_count": 8,
   "metadata": {},
   "outputs": [
    {
     "data": {
      "text/plain": [
       "[]"
      ]
     },
     "execution_count": 8,
     "metadata": {},
     "output_type": "execute_result"
    }
   ],
   "source": [
    "soup.find_all('div', class_=\"rounded-20 mb-xs mb-mobile-xxs mb-0-last entry_container__1pt_-\")"
   ]
  },
  {
   "cell_type": "code",
   "execution_count": 9,
   "metadata": {},
   "outputs": [
    {
     "data": {
      "text/plain": [
       "['https://www.lifeatspotify.com/locations/stockholm',\n",
       " 'https://www.lifeatspotify.com/locations/london',\n",
       " 'https://www.lifeatspotify.com/locations/berlin',\n",
       " 'https://www.lifeatspotify.com/locations/amsterdam',\n",
       " 'https://www.lifeatspotify.com/locations/milan',\n",
       " 'https://www.lifeatspotify.com/locations/dusseldorf']"
      ]
     },
     "execution_count": 9,
     "metadata": {},
     "output_type": "execute_result"
    }
   ],
   "source": [
    "urls = []\n",
    "for location_soup in soup.find_all('div', {\"id\": \"europe\"}):\n",
    "    for location in location_soup.find_all('a', href=True):\n",
    "        location_url = 'https://www.lifeatspotify.com' + str(location['href'])\n",
    "        urls.append(location_url)\n",
    "\n",
    "        r = requests.get(location_url)\n",
    "        soup = BeautifulSoup(r.text, 'html.parser')\n",
    "\n",
    "urls"
   ]
  },
  {
   "cell_type": "code",
   "execution_count": null,
   "metadata": {},
   "outputs": [],
   "source": []
  }
 ],
 "metadata": {
  "kernelspec": {
   "display_name": "Python 3",
   "language": "python",
   "name": "python3"
  },
  "language_info": {
   "codemirror_mode": {
    "name": "ipython",
    "version": 3
   },
   "file_extension": ".py",
   "mimetype": "text/x-python",
   "name": "python",
   "nbconvert_exporter": "python",
   "pygments_lexer": "ipython3",
   "version": "3.8.8"
  },
  "vscode": {
   "interpreter": {
    "hash": "a9cff5a362bc38ef45d817ae74b1af54d6a076e3d773891282bce078b815ba34"
   }
  }
 },
 "nbformat": 4,
 "nbformat_minor": 2
}
