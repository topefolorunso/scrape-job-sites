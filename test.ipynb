{
 "cells": [
  {
   "cell_type": "code",
   "execution_count": 1,
   "metadata": {},
   "outputs": [],
   "source": [
    "from selenium import webdriver\n",
    "from selenium.webdriver.common.by import By\n",
    "from selenium.webdriver.firefox.options import Options\n",
    "\n",
    "import pandas as pd"
   ]
  },
  {
   "cell_type": "code",
   "execution_count": 2,
   "metadata": {},
   "outputs": [],
   "source": [
    "options = Options()\n",
    "options.headless = True\n",
    "\n",
    "browser = webdriver.Firefox(options=options)\n",
    "\n",
    "r = browser.get(\"https://www.lifeatspotify.com/jobs\")"
   ]
  },
  {
   "cell_type": "code",
   "execution_count": 18,
   "metadata": {},
   "outputs": [],
   "source": [
    "df = pd.DataFrame()"
   ]
  },
  {
   "cell_type": "code",
   "execution_count": 3,
   "metadata": {},
   "outputs": [
    {
     "data": {
      "text/plain": [
       "{'role': ['Editorial Lead, UK&IE',\n",
       "  'Product Director, Growth Opportunities',\n",
       "  'Social Media Lead',\n",
       "  'Podcast Marketing Manager',\n",
       "  'Account Manager'],\n",
       " 'url': ['https://www.lifeatspotify.com/jobs/editorial-lead-ukie',\n",
       "  'https://www.lifeatspotify.com/jobs/product-director-growth-opportunities',\n",
       "  'https://www.lifeatspotify.com/jobs/social-media-lead',\n",
       "  'https://www.lifeatspotify.com/jobs/launch-marketing-manager',\n",
       "  'https://www.lifeatspotify.com/jobs/account-manager']}"
      ]
     },
     "execution_count": 3,
     "metadata": {},
     "output_type": "execute_result"
    }
   ],
   "source": [
    "dict = {}\n",
    "role = []\n",
    "url = []\n",
    "r = browser.find_elements(By.XPATH, '//div[@class=\"mb-xxxs mb-mobile-xxs entry_cols__3vENU entry_header__2Rw2O\"]/a')\n",
    "for a in r:\n",
    "    role.append(a.text)\n",
    "    url.append(a.get_attribute('href'))\n",
    "\n",
    "dict['role'] = role\n",
    "dict['url'] = url\n",
    "\n",
    "dict\n",
    "\n",
    "# print (role, url)\n",
    "\n",
    "# df['role'] = role\n",
    "# df['url'] = url\n",
    "# df"
   ]
  },
  {
   "cell_type": "code",
   "execution_count": 20,
   "metadata": {},
   "outputs": [
    {
     "data": {
      "text/html": [
       "<div>\n",
       "<style scoped>\n",
       "    .dataframe tbody tr th:only-of-type {\n",
       "        vertical-align: middle;\n",
       "    }\n",
       "\n",
       "    .dataframe tbody tr th {\n",
       "        vertical-align: top;\n",
       "    }\n",
       "\n",
       "    .dataframe thead th {\n",
       "        text-align: right;\n",
       "    }\n",
       "</style>\n",
       "<table border=\"1\" class=\"dataframe\">\n",
       "  <thead>\n",
       "    <tr style=\"text-align: right;\">\n",
       "      <th></th>\n",
       "      <th>role</th>\n",
       "      <th>url</th>\n",
       "      <th>location</th>\n",
       "    </tr>\n",
       "  </thead>\n",
       "  <tbody>\n",
       "    <tr>\n",
       "      <th>0</th>\n",
       "      <td>Product Director, Growth Opportunities</td>\n",
       "      <td>https://www.lifeatspotify.com/jobs/product-dir...</td>\n",
       "      <td>New York or Remote Americas</td>\n",
       "    </tr>\n",
       "    <tr>\n",
       "      <th>1</th>\n",
       "      <td>Social Media Lead</td>\n",
       "      <td>https://www.lifeatspotify.com/jobs/social-medi...</td>\n",
       "      <td>Mumbai</td>\n",
       "    </tr>\n",
       "    <tr>\n",
       "      <th>2</th>\n",
       "      <td>Podcast Marketing Manager</td>\n",
       "      <td>https://www.lifeatspotify.com/jobs/launch-mark...</td>\n",
       "      <td>Mumbai</td>\n",
       "    </tr>\n",
       "    <tr>\n",
       "      <th>3</th>\n",
       "      <td>Account Manager</td>\n",
       "      <td>https://www.lifeatspotify.com/jobs/account-man...</td>\n",
       "      <td>Mexico City</td>\n",
       "    </tr>\n",
       "    <tr>\n",
       "      <th>4</th>\n",
       "      <td>Senior Software Engineer, Platform</td>\n",
       "      <td>https://www.lifeatspotify.com/jobs/senior-soft...</td>\n",
       "      <td>Stockholm or Remote EMEA</td>\n",
       "    </tr>\n",
       "    <tr>\n",
       "      <th>...</th>\n",
       "      <td>...</td>\n",
       "      <td>...</td>\n",
       "      <td>...</td>\n",
       "    </tr>\n",
       "    <tr>\n",
       "      <th>554</th>\n",
       "      <td>Senior Data Science Manager, Personalization</td>\n",
       "      <td>https://www.lifeatspotify.com/jobs/product-ins...</td>\n",
       "      <td>London or Remote EMEA</td>\n",
       "    </tr>\n",
       "    <tr>\n",
       "      <th>555</th>\n",
       "      <td>iOS Engineer, Talk</td>\n",
       "      <td>https://www.lifeatspotify.com/jobs/ios-enginee...</td>\n",
       "      <td>New York or Remote Americas</td>\n",
       "    </tr>\n",
       "    <tr>\n",
       "      <th>556</th>\n",
       "      <td>Backend Engineer, Consumer Experience</td>\n",
       "      <td>https://www.lifeatspotify.com/jobs/backend-eng...</td>\n",
       "      <td>Amsterdam or Remote EMEA</td>\n",
       "    </tr>\n",
       "    <tr>\n",
       "      <th>557</th>\n",
       "      <td>Experienced Backend Engineer, Podcast Creation...</td>\n",
       "      <td>https://www.lifeatspotify.com/jobs/senior-back...</td>\n",
       "      <td>New York or Remote Americas</td>\n",
       "    </tr>\n",
       "    <tr>\n",
       "      <th>558</th>\n",
       "      <td>Data Scientist - Consumer Experience</td>\n",
       "      <td>https://www.lifeatspotify.com/jobs/data-scient...</td>\n",
       "      <td></td>\n",
       "    </tr>\n",
       "  </tbody>\n",
       "</table>\n",
       "<p>559 rows × 3 columns</p>\n",
       "</div>"
      ],
      "text/plain": [
       "                                                  role  \\\n",
       "0               Product Director, Growth Opportunities   \n",
       "1                                    Social Media Lead   \n",
       "2                            Podcast Marketing Manager   \n",
       "3                                      Account Manager   \n",
       "4                   Senior Software Engineer, Platform   \n",
       "..                                                 ...   \n",
       "554       Senior Data Science Manager, Personalization   \n",
       "555                                 iOS Engineer, Talk   \n",
       "556              Backend Engineer, Consumer Experience   \n",
       "557  Experienced Backend Engineer, Podcast Creation...   \n",
       "558               Data Scientist - Consumer Experience   \n",
       "\n",
       "                                                   url  \\\n",
       "0    https://www.lifeatspotify.com/jobs/product-dir...   \n",
       "1    https://www.lifeatspotify.com/jobs/social-medi...   \n",
       "2    https://www.lifeatspotify.com/jobs/launch-mark...   \n",
       "3    https://www.lifeatspotify.com/jobs/account-man...   \n",
       "4    https://www.lifeatspotify.com/jobs/senior-soft...   \n",
       "..                                                 ...   \n",
       "554  https://www.lifeatspotify.com/jobs/product-ins...   \n",
       "555  https://www.lifeatspotify.com/jobs/ios-enginee...   \n",
       "556  https://www.lifeatspotify.com/jobs/backend-eng...   \n",
       "557  https://www.lifeatspotify.com/jobs/senior-back...   \n",
       "558  https://www.lifeatspotify.com/jobs/data-scient...   \n",
       "\n",
       "                        location  \n",
       "0    New York or Remote Americas  \n",
       "1                         Mumbai  \n",
       "2                         Mumbai  \n",
       "3                    Mexico City  \n",
       "4       Stockholm or Remote EMEA  \n",
       "..                           ...  \n",
       "554        London or Remote EMEA  \n",
       "555  New York or Remote Americas  \n",
       "556     Amsterdam or Remote EMEA  \n",
       "557  New York or Remote Americas  \n",
       "558                               \n",
       "\n",
       "[559 rows x 3 columns]"
      ]
     },
     "execution_count": 20,
     "metadata": {},
     "output_type": "execute_result"
    }
   ],
   "source": [
    "location = []\n",
    "r = browser.find_elements(By.XPATH, '//div[@class=\"mb-xxxs mb-mobile-xxs entry_cols__3vENU entry_header__2Rw2O\"]/p')\n",
    "for a in r:\n",
    "    location.append(a.text)\n",
    "\n",
    "df['location'] = location\n",
    "df"
   ]
  },
  {
   "cell_type": "code",
   "execution_count": 21,
   "metadata": {},
   "outputs": [],
   "source": [
    "df.to_csv('spotify-jobs.csv')"
   ]
  },
  {
   "cell_type": "code",
   "execution_count": null,
   "metadata": {},
   "outputs": [],
   "source": [
    "loadMoreJobs = browser.find_elements(By.XPATH, '//button')\n",
    "n = 1\n",
    "while 'Load more jobs' in [button.text for button in loadMoreJobs]:\n",
    "    print(n)\n",
    "    n+=1\n",
    "    for button in loadMoreJobs:\n",
    "        if button.text == 'Load more jobs':\n",
    "            button.click()\n",
    "    loadMoreJobs = browser.find_elements(By.XPATH, '//button')"
   ]
  },
  {
   "cell_type": "code",
   "execution_count": 10,
   "metadata": {},
   "outputs": [],
   "source": [
    "class DataFrame(pd.DataFrame):\n",
    "\n",
    "    def __init__(self, dict=None) -> None:\n",
    "        if not dict:\n",
    "            self.df = pd.DataFrame(dict)\n",
    "        else:\n",
    "            self.df = pd.DataFrame()\n",
    "\n",
    "    def add_column_to_dataframe(self, column, values):\n",
    "\n",
    "        self.df[column] = values\n",
    "\n",
    "    def export_to_file(self, path_to_file):\n",
    "        print(f'exporting data to {path_to_file} ...')\n",
    "        self.df.to_csv(path_to_file)"
   ]
  },
  {
   "cell_type": "code",
   "execution_count": 11,
   "metadata": {},
   "outputs": [
    {
     "ename": "",
     "evalue": "",
     "output_type": "error",
     "traceback": [
      "\u001b[1;31mCanceled future for execute_request message before replies were done"
     ]
    },
    {
     "ename": "",
     "evalue": "",
     "output_type": "error",
     "traceback": [
      "\u001b[1;31mThe Kernel crashed while executing code in the the current cell or a previous cell. Please review the code in the cell(s) to identify a possible cause of the failure. Click <a href='https://aka.ms/vscodeJupyterKernelCrash'>here</a> for more info. View Jupyter <a href='command:jupyter.viewOutput'>log</a> for further details."
     ]
    }
   ],
   "source": [
    "a = [1, 2, 3]\n",
    "b = [4, 5, 6]\n",
    "c = [7, 8, 9]\n",
    "dict = {'a':a, 'b': b, 'c':c}\n",
    "df = DataFrame(dict)"
   ]
  },
  {
   "cell_type": "code",
   "execution_count": 9,
   "metadata": {},
   "outputs": [
    {
     "ename": "AttributeError",
     "evalue": "'DataFrame' object has no attribute 'head'",
     "output_type": "error",
     "traceback": [
      "\u001b[1;31m---------------------------------------------------------------------------\u001b[0m",
      "\u001b[1;31mAttributeError\u001b[0m                            Traceback (most recent call last)",
      "\u001b[1;32mc:\\Users\\HP\\Desktop\\xED\\Data\\Projects\\DE\\spotify-jobs\\test.ipynb Cell 10'\u001b[0m in \u001b[0;36m<cell line: 1>\u001b[1;34m()\u001b[0m\n\u001b[1;32m----> <a href='vscode-notebook-cell:/c%3A/Users/HP/Desktop/xED/Data/Projects/DE/spotify-jobs/test.ipynb#ch0000009?line=0'>1</a>\u001b[0m df\u001b[39m.\u001b[39;49mhead\n",
      "\u001b[1;31mAttributeError\u001b[0m: 'DataFrame' object has no attribute 'head'"
     ]
    }
   ],
   "source": [
    "df.head"
   ]
  },
  {
   "cell_type": "code",
   "execution_count": null,
   "metadata": {},
   "outputs": [],
   "source": []
  }
 ],
 "metadata": {
  "kernelspec": {
   "display_name": "Python 3",
   "language": "python",
   "name": "python3"
  },
  "language_info": {
   "codemirror_mode": {
    "name": "ipython",
    "version": 3
   },
   "file_extension": ".py",
   "mimetype": "text/x-python",
   "name": "python",
   "nbconvert_exporter": "python",
   "pygments_lexer": "ipython3",
   "version": "3.10.4"
  },
  "vscode": {
   "interpreter": {
    "hash": "a9cff5a362bc38ef45d817ae74b1af54d6a076e3d773891282bce078b815ba34"
   }
  }
 },
 "nbformat": 4,
 "nbformat_minor": 2
}
